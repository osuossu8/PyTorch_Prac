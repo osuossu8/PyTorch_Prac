{
  "nbformat": 4,
  "nbformat_minor": 0,
  "metadata": {
    "colab": {
      "name": "rnn_exam.ipynb",
      "version": "0.3.2",
      "provenance": [],
      "collapsed_sections": []
    },
    "kernelspec": {
      "name": "python3",
      "display_name": "Python 3"
    }
  },
  "cells": [
    {
      "metadata": {
        "id": "bTwayKM8U3nn",
        "colab_type": "code",
        "colab": {
          "base_uri": "https://localhost:8080/",
          "height": 173
        },
        "outputId": "3e87a3ee-dd87-417e-c446-afb179c5c5c6"
      },
      "cell_type": "code",
      "source": [
        "from google.colab import drive\n",
        "drive.mount('/content/drive')\n",
        "!ls drive/My\\ Drive"
      ],
      "execution_count": 2,
      "outputs": [
        {
          "output_type": "stream",
          "text": [
            "Go to this URL in a browser: https://accounts.google.com/o/oauth2/auth?client_id=947318989803-6bn6qk8qdgf4n4g3pfee6491hc0brc4i.apps.googleusercontent.com&redirect_uri=urn%3Aietf%3Awg%3Aoauth%3A2.0%3Aoob&scope=email%20https%3A%2F%2Fwww.googleapis.com%2Fauth%2Fdocs.test%20https%3A%2F%2Fwww.googleapis.com%2Fauth%2Fdrive%20https%3A%2F%2Fwww.googleapis.com%2Fauth%2Fdrive.photos.readonly%20https%3A%2F%2Fwww.googleapis.com%2Fauth%2Fpeopleapi.readonly&response_type=code\n",
            "\n",
            "Enter your authorization code:\n",
            "··········\n",
            "Mounted at /content/drive\n",
            "lgbm_submission.csv  rnn_exam.ipynb  TGSsalt_for_demo.ipynb\n",
            "model1.hdf5\t     submission.csv  VSB_mid_yields\n",
            "pytorch_iris.ipynb   TGSsalt0.ipynb  vsb_power_line.ipynb\n"
          ],
          "name": "stdout"
        }
      ]
    },
    {
      "metadata": {
        "id": "qSRpaHkyVB6N",
        "colab_type": "code",
        "colab": {
          "base_uri": "https://localhost:8080/",
          "height": 139
        },
        "outputId": "5711e3a9-8adb-409e-883c-887e63d66df1"
      },
      "cell_type": "code",
      "source": [
        "!pip3 install torch"
      ],
      "execution_count": 3,
      "outputs": [
        {
          "output_type": "stream",
          "text": [
            "Collecting torch\n",
            "\u001b[?25l  Downloading https://files.pythonhosted.org/packages/7e/60/66415660aa46b23b5e1b72bc762e816736ce8d7260213e22365af51e8f9c/torch-1.0.0-cp36-cp36m-manylinux1_x86_64.whl (591.8MB)\n",
            "\u001b[K    100% |████████████████████████████████| 591.8MB 23kB/s \n",
            "tcmalloc: large alloc 1073750016 bytes == 0x614bc000 @  0x7efdf86d22a4 0x591a07 0x5b5d56 0x502e9a 0x506859 0x502209 0x502f3d 0x506859 0x504c28 0x502540 0x502f3d 0x506859 0x504c28 0x502540 0x502f3d 0x506859 0x504c28 0x502540 0x502f3d 0x507641 0x502209 0x502f3d 0x506859 0x504c28 0x502540 0x502f3d 0x507641 0x504c28 0x502540 0x502f3d 0x507641\n",
            "\u001b[?25hInstalling collected packages: torch\n",
            "Successfully installed torch-1.0.0\n"
          ],
          "name": "stdout"
        }
      ]
    },
    {
      "metadata": {
        "id": "-Hly26_CVB8r",
        "colab_type": "code",
        "colab": {
          "base_uri": "https://localhost:8080/",
          "height": 326
        },
        "outputId": "41ec4375-87a8-4998-8783-f40f75a3d7b1"
      },
      "cell_type": "code",
      "source": [
        "!pip3 install torchvision"
      ],
      "execution_count": 4,
      "outputs": [
        {
          "output_type": "stream",
          "text": [
            "Collecting torchvision\n",
            "\u001b[?25l  Downloading https://files.pythonhosted.org/packages/ca/0d/f00b2885711e08bd71242ebe7b96561e6f6d01fdb4b9dcf4d37e2e13c5e1/torchvision-0.2.1-py2.py3-none-any.whl (54kB)\n",
            "\u001b[K    100% |████████████████████████████████| 61kB 2.2MB/s \n",
            "\u001b[?25hRequirement already satisfied: six in /usr/local/lib/python3.6/dist-packages (from torchvision) (1.11.0)\n",
            "Collecting pillow>=4.1.1 (from torchvision)\n",
            "\u001b[?25l  Downloading https://files.pythonhosted.org/packages/85/5e/e91792f198bbc5a0d7d3055ad552bc4062942d27eaf75c3e2783cf64eae5/Pillow-5.4.1-cp36-cp36m-manylinux1_x86_64.whl (2.0MB)\n",
            "\u001b[K    100% |████████████████████████████████| 2.0MB 6.3MB/s \n",
            "\u001b[?25hRequirement already satisfied: torch in /usr/local/lib/python3.6/dist-packages (from torchvision) (1.0.0)\n",
            "Requirement already satisfied: numpy in /usr/local/lib/python3.6/dist-packages (from torchvision) (1.14.6)\n",
            "Installing collected packages: pillow, torchvision\n",
            "  Found existing installation: Pillow 4.0.0\n",
            "    Uninstalling Pillow-4.0.0:\n",
            "      Successfully uninstalled Pillow-4.0.0\n",
            "Successfully installed pillow-5.4.1 torchvision-0.2.1\n",
            "\u001b[0;31;1mWARNING: The following packages were previously imported in this runtime:\n",
            "  [PIL]\n",
            "You must restart the runtime in order to use newly installed versions.\u001b[0m\n"
          ],
          "name": "stdout"
        }
      ]
    },
    {
      "metadata": {
        "id": "jYW-aozqxJKa",
        "colab_type": "code",
        "colab": {
          "base_uri": "https://localhost:8080/",
          "height": 527
        },
        "outputId": "40791c5f-36e1-4ba5-bb7d-2500d559136f"
      },
      "cell_type": "code",
      "source": [
        "import torch\n",
        "import torch.nn as nn\n",
        "from torch.optim import SGD\n",
        "import math\n",
        "import numpy as np\n",
        "import matplotlib\n",
        "matplotlib.use('Agg')\n",
        "import matplotlib.pyplot as plt\n",
        "\n",
        "\n",
        "class Predictor(nn.Module):\n",
        "    def __init__(self, inputDim, hiddenDim, outputDim):\n",
        "        super(Predictor, self).__init__()\n",
        "\n",
        "        self.rnn = nn.LSTM(input_size = inputDim,\n",
        "                            hidden_size = hiddenDim,\n",
        "                            batch_first = True)\n",
        "        self.output_layer = nn.Linear(hiddenDim, outputDim)\n",
        "    \n",
        "    def forward(self, inputs, hidden0=None):\n",
        "        output, (hidden, cell) = self.rnn(inputs, hidden0)\n",
        "        output = self.output_layer(output[:, -1, :])\n",
        "\n",
        "        return output\n",
        "\n",
        "def mkDataSet(data_size, data_length=50, freq=60., noise=0.00):\n",
        "    \"\"\"\n",
        "    params\\n\n",
        "    data_size : データセットサイズ\\n\n",
        "    data_length : 各データの時系列長\\n\n",
        "    freq : 周波数\\n\n",
        "    noise : ノイズの振幅\\n\n",
        "    returns\\n\n",
        "    train_x : トレーニングデータ（t=1,2,...,size-1の値)\\n\n",
        "    train_t : トレーニングデータのラベル（t=sizeの値）\\n\n",
        "    \"\"\"\n",
        "    train_x = []\n",
        "    train_t = []\n",
        "\n",
        "    for offset in range(data_size):\n",
        "        train_x.append([[math.sin(2 * math.pi * (offset + i) / freq) + np.random.normal(loc=0.0, scale=noise)] for i in range(data_length)])\n",
        "        train_t.append([math.sin(2 * math.pi * (offset + data_length) / freq)])\n",
        "\n",
        "    return train_x, train_t\n",
        "\n",
        "def mkRandomBatch(train_x, train_t, batch_size=10):\n",
        "    \"\"\"\n",
        "    train_x, train_tを受け取ってbatch_x, batch_tを返す。\n",
        "    \"\"\"\n",
        "    batch_x = []\n",
        "    batch_t = []\n",
        "\n",
        "    for _ in range(batch_size):\n",
        "        idx = np.random.randint(0, len(train_x) - 1)\n",
        "        batch_x.append(train_x[idx])\n",
        "        batch_t.append(train_t[idx])\n",
        "    \n",
        "    return torch.tensor(batch_x), torch.tensor(batch_t)\n",
        "\n",
        "def main():\n",
        "    training_size = 10000\n",
        "    test_size = 1000\n",
        "    epochs_num = 30\n",
        "    hidden_size = 5\n",
        "    batch_size = 100\n",
        "\n",
        "    train_x, train_t = mkDataSet(training_size)\n",
        "    test_x, test_t = mkDataSet(test_size)\n",
        "\n",
        "    model = Predictor(1, hidden_size, 1)\n",
        "    criterion = nn.MSELoss()\n",
        "    optimizer = SGD(model.parameters(), lr=0.01)\n",
        "\n",
        "    for epoch in range(epochs_num):\n",
        "        # training\n",
        "        running_loss = 0.0\n",
        "        training_accuracy = 0.0\n",
        "        for i in range(int(training_size / batch_size)):\n",
        "            optimizer.zero_grad()\n",
        "\n",
        "            data, label = mkRandomBatch(train_x, train_t, batch_size)\n",
        "\n",
        "            output = model(data)\n",
        "\n",
        "            loss = criterion(output, label)\n",
        "            loss.backward()\n",
        "            optimizer.step()\n",
        "\n",
        "            running_loss += loss.data.item()\n",
        "            training_accuracy += np.sum(np.abs((output.data - label.data).numpy()) < 0.1)\n",
        "\n",
        "        #test\n",
        "        test_accuracy = 0.0\n",
        "        for i in range(int(test_size / batch_size)):\n",
        "            offset = i * batch_size\n",
        "            data, label = torch.tensor(test_x[offset:offset+batch_size]), torch.tensor(test_t[offset:offset+batch_size])\n",
        "            output = model(data, None)\n",
        "\n",
        "            test_accuracy += np.sum(np.abs((output.data - label.data).numpy()) < 0.1)\n",
        "        \n",
        "        training_accuracy /= training_size\n",
        "        test_accuracy /= test_size\n",
        "\n",
        "        print('%d loss: %.3f, training_accuracy: %.5f, test_accuracy: %.5f' % (\n",
        "            epoch + 1, running_loss, training_accuracy, test_accuracy))\n",
        "\n",
        "\n",
        "if __name__ == '__main__':\n",
        "    main()"
      ],
      "execution_count": 56,
      "outputs": [
        {
          "output_type": "stream",
          "text": [
            "1 loss: 64.078, training_accuracy: 0.06080, test_accuracy: 0.06600\n",
            "2 loss: 49.729, training_accuracy: 0.06060, test_accuracy: 0.06700\n",
            "3 loss: 41.451, training_accuracy: 0.07180, test_accuracy: 0.06700\n",
            "4 loss: 29.539, training_accuracy: 0.08650, test_accuracy: 0.10200\n",
            "5 loss: 15.801, training_accuracy: 0.11050, test_accuracy: 0.10200\n",
            "6 loss: 7.950, training_accuracy: 0.10570, test_accuracy: 0.11900\n",
            "7 loss: 5.171, training_accuracy: 0.12550, test_accuracy: 0.15300\n",
            "8 loss: 4.332, training_accuracy: 0.12630, test_accuracy: 0.15300\n",
            "9 loss: 3.847, training_accuracy: 0.15240, test_accuracy: 0.16900\n",
            "10 loss: 3.522, training_accuracy: 0.15750, test_accuracy: 0.16900\n",
            "11 loss: 3.236, training_accuracy: 0.16310, test_accuracy: 0.16900\n",
            "12 loss: 3.005, training_accuracy: 0.16570, test_accuracy: 0.16900\n",
            "13 loss: 2.818, training_accuracy: 0.17180, test_accuracy: 0.20200\n",
            "14 loss: 2.625, training_accuracy: 0.18890, test_accuracy: 0.21900\n",
            "15 loss: 2.456, training_accuracy: 0.21020, test_accuracy: 0.18500\n",
            "16 loss: 2.294, training_accuracy: 0.21640, test_accuracy: 0.23600\n",
            "17 loss: 2.205, training_accuracy: 0.23310, test_accuracy: 0.25200\n",
            "18 loss: 2.078, training_accuracy: 0.25820, test_accuracy: 0.26800\n",
            "19 loss: 2.016, training_accuracy: 0.27510, test_accuracy: 0.30000\n",
            "20 loss: 1.895, training_accuracy: 0.30030, test_accuracy: 0.30300\n",
            "21 loss: 1.821, training_accuracy: 0.31620, test_accuracy: 0.33400\n",
            "22 loss: 1.726, training_accuracy: 0.34520, test_accuracy: 0.40100\n",
            "23 loss: 1.638, training_accuracy: 0.39800, test_accuracy: 0.41700\n",
            "24 loss: 1.560, training_accuracy: 0.42100, test_accuracy: 0.43300\n",
            "25 loss: 1.504, training_accuracy: 0.42420, test_accuracy: 0.43300\n",
            "26 loss: 1.441, training_accuracy: 0.46290, test_accuracy: 0.48500\n",
            "27 loss: 1.346, training_accuracy: 0.51300, test_accuracy: 0.53300\n",
            "28 loss: 1.290, training_accuracy: 0.53990, test_accuracy: 0.53400\n",
            "29 loss: 1.250, training_accuracy: 0.56350, test_accuracy: 0.56600\n",
            "30 loss: 1.186, training_accuracy: 0.57110, test_accuracy: 0.55000\n"
          ],
          "name": "stdout"
        }
      ]
    },
    {
      "metadata": {
        "id": "lliHWsEdqi4N",
        "colab_type": "code",
        "colab": {}
      },
      "cell_type": "code",
      "source": [
        ""
      ],
      "execution_count": 0,
      "outputs": []
    },
    {
      "metadata": {
        "id": "uo6HMRx5qi6z",
        "colab_type": "code",
        "colab": {}
      },
      "cell_type": "code",
      "source": [
        ""
      ],
      "execution_count": 0,
      "outputs": []
    },
    {
      "metadata": {
        "id": "TmY6liccqi8-",
        "colab_type": "code",
        "colab": {}
      },
      "cell_type": "code",
      "source": [
        ""
      ],
      "execution_count": 0,
      "outputs": []
    },
    {
      "metadata": {
        "id": "o0_s9Oxnqi_u",
        "colab_type": "code",
        "colab": {}
      },
      "cell_type": "code",
      "source": [
        ""
      ],
      "execution_count": 0,
      "outputs": []
    }
  ]
}